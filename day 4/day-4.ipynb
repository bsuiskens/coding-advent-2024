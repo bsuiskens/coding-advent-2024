{
 "cells": [
  {
   "cell_type": "markdown",
   "metadata": {},
   "source": [
    "\"Looks like the Chief's not here. Next!\" One of The Historians pulls out a device and pushes the only button on it. After a brief flash, you recognize the interior of the Ceres monitoring station!\n",
    "\n",
    "As the search for the Chief continues, a small Elf who lives on the station tugs on your shirt; she'd like to know if you could help her with her word search (your puzzle input). She only has to find one word: XMAS.\n",
    "\n",
    "This word search allows words to be horizontal, vertical, diagonal, written backwards, or even overlapping other words. It's a little unusual, though, as you don't merely need to find one instance of XMAS - you need to find all of them. Here are a few ways XMAS might appear, where irrelevant characters have been replaced with .:"
   ]
  },
  {
   "cell_type": "code",
   "execution_count": 51,
   "metadata": {},
   "outputs": [],
   "source": [
    "target_word = \"XMAS\"\n",
    "xmas_count = 0\n",
    "puzzle_input = [\n",
    "    [\"M\", \"M\", \"M\", \"S\", \"X\", \"X\", \"M\", \"A\", \"S\", \"M\"],\n",
    "    [\"M\", \"S\", \"A\", \"M\", \"X\", \"M\", \"S\", \"M\", \"S\", \"A\"],\n",
    "    [\"A\", \"M\", \"X\", \"S\", \"X\", \"M\", \"A\", \"A\", \"M\", \"M\"],\n",
    "    [\"M\", \"S\", \"A\", \"M\", \"A\", \"S\", \"M\", \"S\", \"M\", \"X\"],\n",
    "    [\"X\", \"M\", \"A\", \"S\", \"A\", \"M\", \"X\", \"A\", \"M\", \"M\"],\n",
    "    [\"X\", \"X\", \"A\", \"M\", \"M\", \"X\", \"X\", \"A\", \"M\", \"A\"],\n",
    "    [\"S\", \"M\", \"S\", \"M\", \"S\", \"A\", \"S\", \"X\", \"S\", \"S\"],\n",
    "    [\"S\", \"A\", \"X\", \"A\", \"M\", \"A\", \"S\", \"A\", \"A\", \"A\"],\n",
    "    [\"M\", \"A\", \"M\", \"M\", \"M\", \"X\", \"M\", \"M\", \"M\", \"M\"],\n",
    "    [\"M\", \"X\", \"M\", \"X\", \"A\", \"X\", \"M\", \"A\", \"S\", \"X\"],\n",
    "]\n",
    "\n",
    "def read_grid_from_file(file_path):\n",
    "    grid = []\n",
    "    with open(file_path, 'r') as f:\n",
    "        for line in f:\n",
    "            # Remove any leading/trailing whitespace and convert the line to a list of characters\n",
    "            grid.append(list(line.strip()))  # strip() removes newlines or spaces\n",
    "    return grid\n"
   ]
  },
  {
   "cell_type": "code",
   "execution_count": 52,
   "metadata": {},
   "outputs": [],
   "source": [
    "def count_direction(x, y, grid, x_lookup, y_lookup):\n",
    "    last_coord_x = x\n",
    "    last_coord_y = y\n",
    "    for letter in range(1, len(target_word)):\n",
    "        last_coord_x += x_lookup\n",
    "        last_coord_y += y_lookup\n",
    "        if not (0 <= last_coord_x < len(grid[0]) and 0 <= last_coord_y < len(grid)):\n",
    "            return 0\n",
    "        if grid[last_coord_y][last_coord_x] != target_word[letter]:\n",
    "            return 0\n",
    "    return 1\n",
    "\n",
    "\n",
    "def detect_start_points(x, y):\n",
    "    result = 0\n",
    "    if puzzle_input[y][x] == target_word[0]:\n",
    "        for x_offset in range(-1, 2):\n",
    "            for y_offset in range(-1, 2):\n",
    "                if x_offset == 0 and y_offset == 0:\n",
    "                    continue\n",
    "                result += count_direction(x, y, puzzle_input, x_offset, y_offset)\n",
    "    return result"
   ]
  },
  {
   "cell_type": "code",
   "execution_count": 53,
   "metadata": {},
   "outputs": [
    {
     "name": "stdout",
     "output_type": "stream",
     "text": [
      "2370\n"
     ]
    }
   ],
   "source": [
    "\n",
    "puzzle_input = read_grid_from_file(\"day-4-input.txt\")\n",
    "for y in range(len(puzzle_input)):\n",
    "    for x in range(len(puzzle_input[y])):\n",
    "        xmas_count += detect_start_points(x, y)\n",
    "        \n",
    "             \n",
    "            \n",
    "print(xmas_count)"
   ]
  }
 ],
 "metadata": {
  "kernelspec": {
   "display_name": "Python 3",
   "language": "python",
   "name": "python3"
  },
  "language_info": {
   "codemirror_mode": {
    "name": "ipython",
    "version": 3
   },
   "file_extension": ".py",
   "mimetype": "text/x-python",
   "name": "python",
   "nbconvert_exporter": "python",
   "pygments_lexer": "ipython3",
   "version": "3.12.3"
  }
 },
 "nbformat": 4,
 "nbformat_minor": 2
}
