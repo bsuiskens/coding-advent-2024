{
 "cells": [
  {
   "cell_type": "markdown",
   "metadata": {},
   "source": [
    "--- Part Two ---\n",
    "The Elf looks quizzically at you. Did you misunderstand the assignment?\n",
    "\n",
    "Looking for the instructions, you flip over the word search to find that this isn't actually an XMAS puzzle; it's an X-MAS puzzle in which you're supposed to find two MAS in the shape of an X. "
   ]
  },
  {
   "cell_type": "code",
   "execution_count": 21,
   "metadata": {},
   "outputs": [],
   "source": [
    "target_word = \"MAS\"\n",
    "xmas_count = 0\n",
    "puzzle_input = [\n",
    "    [\"M\", \"M\", \"M\", \"S\", \"X\", \"X\", \"M\", \"A\", \"S\", \"M\"],\n",
    "    [\"M\", \"S\", \"A\", \"M\", \"X\", \"M\", \"S\", \"M\", \"S\", \"A\"],\n",
    "    [\"A\", \"M\", \"X\", \"S\", \"X\", \"M\", \"A\", \"A\", \"M\", \"M\"],\n",
    "    [\"M\", \"S\", \"A\", \"M\", \"A\", \"S\", \"M\", \"S\", \"M\", \"X\"],\n",
    "    [\"X\", \"M\", \"A\", \"S\", \"A\", \"M\", \"X\", \"A\", \"M\", \"M\"],\n",
    "    [\"X\", \"X\", \"A\", \"M\", \"M\", \"X\", \"X\", \"A\", \"M\", \"A\"],\n",
    "    [\"S\", \"M\", \"S\", \"M\", \"S\", \"A\", \"S\", \"X\", \"S\", \"S\"],\n",
    "    [\"S\", \"A\", \"X\", \"A\", \"M\", \"A\", \"S\", \"A\", \"A\", \"A\"],\n",
    "    [\"M\", \"A\", \"M\", \"M\", \"M\", \"X\", \"M\", \"M\", \"M\", \"M\"],\n",
    "    [\"M\", \"X\", \"M\", \"X\", \"A\", \"X\", \"M\", \"A\", \"S\", \"X\"],\n",
    "]\n",
    "\n",
    "def read_grid_from_file(file_path):\n",
    "    grid = []\n",
    "    with open(file_path, 'r') as f:\n",
    "        for line in f:\n",
    "            # Remove any leading/trailing whitespace and convert the line to a list of characters\n",
    "            grid.append(list(line.strip()))  # strip() removes newlines or spaces\n",
    "    return grid"
   ]
  },
  {
   "cell_type": "code",
   "execution_count": 22,
   "metadata": {},
   "outputs": [],
   "source": [
    "def count_cross(x, y, grid):\n",
    "    viable_characters = [target_word[0], target_word[2]]\n",
    "    top_left = \"\"\n",
    "    bottom_left = \"\"\n",
    "    full_match = 0\n",
    "    if grid[y - 1][x - 1] in viable_characters:\n",
    "        top_left = grid[y - 1][x - 1]\n",
    "    if grid[y + 1][x - 1] in viable_characters:\n",
    "        bottom_left = grid[y + 1][x - 1]\n",
    "    if bottom_left == \"\" or top_left == \"\":\n",
    "        return 0\n",
    "    if grid[y + 1][x + 1] in viable_characters and grid[y + 1][x + 1] != top_left:\n",
    "        full_match += 1\n",
    "    if grid[y - 1][x + 1] in viable_characters and grid[y - 1][x + 1] != bottom_left:\n",
    "        full_match += 1\n",
    "    if full_match != 2:\n",
    "        return 0\n",
    "    return 1\n",
    "\n",
    "\n",
    "def detect_start_points(x, y):\n",
    "    if puzzle_input[y][x] == target_word[1]:\n",
    "        return count_cross(x, y, puzzle_input)\n",
    "    return 0"
   ]
  },
  {
   "cell_type": "code",
   "execution_count": 23,
   "metadata": {},
   "outputs": [
    {
     "name": "stdout",
     "output_type": "stream",
     "text": [
      "1908\n"
     ]
    }
   ],
   "source": [
    "puzzle_input = read_grid_from_file(\"day-4-input.txt\")\n",
    "for y in range(1, len(puzzle_input) - 1):\n",
    "    for x in range(1, len(puzzle_input[y]) - 1):\n",
    "        xmas_count += detect_start_points(x, y)\n",
    "\n",
    "\n",
    "print(xmas_count)"
   ]
  }
 ],
 "metadata": {
  "kernelspec": {
   "display_name": "Python 3",
   "language": "python",
   "name": "python3"
  },
  "language_info": {
   "codemirror_mode": {
    "name": "ipython",
    "version": 3
   },
   "file_extension": ".py",
   "mimetype": "text/x-python",
   "name": "python",
   "nbconvert_exporter": "python",
   "pygments_lexer": "ipython3",
   "version": "3.12.3"
  }
 },
 "nbformat": 4,
 "nbformat_minor": 2
}
