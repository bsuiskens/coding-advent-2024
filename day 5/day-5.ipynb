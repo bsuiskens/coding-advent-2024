{
 "cells": [
  {
   "cell_type": "markdown",
   "metadata": {},
   "source": [
    "--- Day 5: Print Queue ---\n",
    "Satisfied with their search on Ceres, the squadron of scholars suggests subsequently scanning the stationery stacks of sub-basement 17.\n",
    "\n",
    "The North Pole printing department is busier than ever this close to Christmas, and while The Historians continue their search of this historically significant facility, an Elf operating a very familiar printer beckons you over.\n",
    "\n",
    "The Elf must recognize you, because they waste no time explaining that the new sleigh launch safety manual updates won't print correctly. Failure to update the safety manuals would be dire indeed, so you offer your services.\n",
    "\n",
    "Safety protocols clearly indicate that new pages for the safety manuals must be printed in a very specific order. The notation X|Y means that if both page number X and page number Y are to be produced as part of an update, page number X must be printed at some point before page number Y.\n",
    "\n",
    "The Elf has for you both the page ordering rules and the pages to produce in each update (your puzzle input), but can't figure out whether each update has the pages in the right order."
   ]
  },
  {
   "cell_type": "code",
   "execution_count": 36,
   "metadata": {},
   "outputs": [],
   "source": [
    "before_values = [\n",
    "    47,\n",
    "    97,\n",
    "    97,\n",
    "    97,\n",
    "    75,\n",
    "    61,\n",
    "    75,\n",
    "    29,\n",
    "    97,\n",
    "    53,\n",
    "    61,\n",
    "    97,\n",
    "    61,\n",
    "    47,\n",
    "    75,\n",
    "    97,\n",
    "    47,\n",
    "    75,\n",
    "    47,\n",
    "    75,\n",
    "    53,\n",
    "]\n",
    "after_values = [\n",
    "    53,\n",
    "    13,\n",
    "    61,\n",
    "    47,\n",
    "    29,\n",
    "    13,\n",
    "    53,\n",
    "    13,\n",
    "    29,\n",
    "    29,\n",
    "    53,\n",
    "    53,\n",
    "    29,\n",
    "    13,\n",
    "    47,\n",
    "    75,\n",
    "    61,\n",
    "    61,\n",
    "    29,\n",
    "    13,\n",
    "    13,\n",
    "]\n",
    "update_list = [\n",
    "    [75, 47, 61, 53, 29],\n",
    "    [97, 61, 53, 29, 13],\n",
    "    [75, 29, 13],\n",
    "    [75, 97, 47, 61, 53],\n",
    "    [61, 13, 29],\n",
    "    [97, 13, 75, 29, 47],\n",
    "]\n",
    "update_log = []\n",
    "middle_sum = 0"
   ]
  },
  {
   "cell_type": "markdown",
   "metadata": {},
   "source": [
    "The first section specifies the page ordering rules, one per line. The first rule, 47|53, means that if an update includes both page number 47 and page number 53, then page number 47 must be printed at some point before page number 53. (47 doesn't necessarily need to be immediately before 53; other pages are allowed to be between them.)\n",
    "\n",
    "The second section specifies the page numbers of each update. Because most safety manuals are different, the pages needed in the updates are different too. The first update, 75,47,61,53,29, means that the update consists of page numbers 75, 47, 61, 53, and 29."
   ]
  },
  {
   "cell_type": "code",
   "execution_count": 37,
   "metadata": {},
   "outputs": [],
   "source": [
    "def check_ordering(sequence, before_list, after_list):\n",
    "    for i in range(len(sequence)):\n",
    "        if sequence[i] in before_list:\n",
    "            # Find all indices where sequence[i] appears in before_list\n",
    "            indices_of_before = [index for index, value in enumerate(before_list) if value == sequence[i]]\n",
    "            \n",
    "            for index_of_before in indices_of_before:\n",
    "                before_value = after_list[index_of_before]\n",
    "                if before_value in sequence:\n",
    "                    max_index = sequence.index(before_value)\n",
    "                    if i > max_index:\n",
    "                        return False\n",
    "    return True"
   ]
  },
  {
   "cell_type": "code",
   "execution_count": 38,
   "metadata": {},
   "outputs": [
    {
     "name": "stdout",
     "output_type": "stream",
     "text": [
      "[True, True, True, False, False, False]\n"
     ]
    }
   ],
   "source": [
    "for sequence in update_list:\n",
    "    update_log.append(check_ordering(sequence, before_values, after_values))\n",
    "    \n",
    "print(update_log)\n",
    " "
   ]
  },
  {
   "cell_type": "markdown",
   "metadata": {},
   "source": [
    "For some reason, the Elves also need to know the middle page number of each update being printed. Because you are currently only printing the correctly-ordered updates, you will need to find the middle page number of each correctly-ordered update."
   ]
  },
  {
   "cell_type": "code",
   "execution_count": null,
   "metadata": {},
   "outputs": [
    {
     "name": "stdout",
     "output_type": "stream",
     "text": [
      "61\n",
      "53\n",
      "29\n",
      "143\n"
     ]
    }
   ],
   "source": [
    "import math\n",
    "\n",
    "\n",
    "def get_middle_value(sequence):\n",
    "    sequence_length = len(sequence)\n",
    "    halfway_point = math.ceil(sequence_length / 2) - 1 \n",
    "    return sequence[halfway_point]\n",
    "\n",
    "\n",
    "for i in range(len(update_list)):\n",
    "    if update_log[i] == True:\n",
    "        middle_sum += get_middle_value(update_list[i])\n",
    "\n",
    "print(middle_sum)"
   ]
  }
 ],
 "metadata": {
  "kernelspec": {
   "display_name": "Python 3",
   "language": "python",
   "name": "python3"
  },
  "language_info": {
   "codemirror_mode": {
    "name": "ipython",
    "version": 3
   },
   "file_extension": ".py",
   "mimetype": "text/x-python",
   "name": "python",
   "nbconvert_exporter": "python",
   "pygments_lexer": "ipython3",
   "version": "3.12.3"
  }
 },
 "nbformat": 4,
 "nbformat_minor": 2
}
